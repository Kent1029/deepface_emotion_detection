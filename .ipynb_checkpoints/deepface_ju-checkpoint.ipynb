{
 "cells": [
  {
   "cell_type": "code",
   "execution_count": 93,
   "id": "438bfbcf",
   "metadata": {},
   "outputs": [
    {
     "name": "stderr",
     "output_type": "stream",
     "text": [
      "Action: emotion: 100%|████████████████████████████████████████████| 1/1 [00:00<00:00, 23.32it/s]\n",
      "Action: age: 100%|████████████████████████████████████████████████| 1/1 [00:00<00:00,  3.17it/s]\n",
      "Action: race: 100%|███████████████████████████████████████████████| 1/1 [00:00<00:00,  3.19it/s]\n",
      "Action: gender: 100%|█████████████████████████████████████████████| 1/1 [00:00<00:00,  3.18it/s]\n"
     ]
    },
    {
     "name": "stdout",
     "output_type": "stream",
     "text": [
      "angry\n",
      "26\n",
      "white\n",
      "{'Woman': 98.2446551322937, 'Man': 1.7553405836224556}\n"
     ]
    }
   ],
   "source": [
    "import cv2\n",
    "from deepface import DeepFace\n",
    "import numpy as np\n",
    "\n",
    "img = cv2.imread('123.png')\n",
    "face_cascade = cv2.CascadeClassifier(\"haarcascade_frontalface_default.xml\")   # 載入人臉模型\n",
    "faces = face_cascade.detectMultiScale(gray)    # 偵測人臉\n",
    "\n",
    "for (x, y, w, h) in faces:\n",
    "    cv2.rectangle(img, (x, y), (x+w, y+h), (0, 255, 0), 2)    # 利用 for 迴圈，抓取每個人臉屬性，繪製方框\n",
    "try:\n",
    "    emotion = DeepFace.analyze(img, actions=['emotion'])  # 情緒\n",
    "    age = DeepFace.analyze(img, actions=['age'])          # 年齡\n",
    "    race = DeepFace.analyze(img, actions=['race'])        # 人種\n",
    "    gender = DeepFace.analyze(img, actions=['gender'])    # 性別\n",
    "\n",
    "    print(emotion[0]['dominant_emotion'])\n",
    "    print(age[0]['age'])\n",
    "    print(race[0]['dominant_race'])\n",
    "    print(gender[0]['gender'])\n",
    "except:\n",
    "    pass\n",
    "\n",
    "cv2.imshow('Emotion Detect', img)\n",
    "cv2.waitKey(0)\n",
    "cv2.destroyAllWindows()"
   ]
  },
  {
   "cell_type": "code",
   "execution_count": 94,
   "id": "3a822963",
   "metadata": {},
   "outputs": [
    {
     "name": "stderr",
     "output_type": "stream",
     "text": [
      "Action: emotion: 100%|████████████████████████████████████████████| 1/1 [00:00<00:00, 22.28it/s]\n",
      "Action: emotion: 100%|████████████████████████████████████████████| 1/1 [00:00<00:00, 17.91it/s]\n",
      "Action: emotion: 100%|████████████████████████████████████████████| 1/1 [00:00<00:00, 17.90it/s]\n"
     ]
    }
   ],
   "source": [
    "import cv2\n",
    "from deepface import DeepFace\n",
    "import numpy as np\n",
    "from PIL import ImageFont, ImageDraw, Image\n",
    "\n",
    "# 定義該情緒的中文字\n",
    "text_obj={\n",
    "    'angry': '生氣',\n",
    "    'disgust': '噁心',\n",
    "    'fear': '害怕',\n",
    "    'happy': '開心',\n",
    "    'sad': '難過',\n",
    "    'surprise': '驚訝',\n",
    "    'neutral': '正常',\n",
    "    '': '正常'\n",
    "}\n",
    "\n",
    "# 定義加入文字函式\n",
    "def putText(x,y,text,size=50,color=(255,255,255)):\n",
    "    global img\n",
    "    fontpath = 'NotoSansTC-Thin.otf'            # 字型\n",
    "    font = ImageFont.truetype(fontpath, size)      # 定義字型與文字大小\n",
    "    imgPil = Image.fromarray(img)                  # 轉換成 PIL 影像物件\n",
    "    draw = ImageDraw.Draw(imgPil)                  # 定義繪圖物件\n",
    "    draw.text((x, y), text, fill=color, font=font) # 加入文字\n",
    "    img = np.array(imgPil)                         # 轉換成 np.array\n",
    "\n",
    "img = cv2.imread('eemotion.png')                    # 載入圖片\n",
    "gray = cv2.cvtColor(img, cv2.COLOR_BGR2GRAY)       # 將圖片轉成灰階\n",
    "\n",
    "face_cascade = cv2.CascadeClassifier(\"haarcascade_frontalface_default.xml\")   # 載入人臉模型\n",
    "faces = face_cascade.detectMultiScale(gray)        # 偵測人臉\n",
    "\n",
    "for (x, y, w, h) in faces:\n",
    "    # 擴大偵測範圍，避免無法辨識情緒\n",
    "    x1 = x-60\n",
    "    x2 = x+w+60\n",
    "    y1 = y-20\n",
    "    y2 = y+h+60\n",
    "    face = img[x1:x2, y1:y2]  # 取出人臉範圍\n",
    "    try:\n",
    "        emotion = DeepFace.analyze(face, actions=['emotion'])  # 辨識情緒\n",
    "        putText(x+50,y+50,text_obj[emotion[0]['dominant_emotion']])     # 放入文字\n",
    "    except:\n",
    "        pass\n",
    "    cv2.rectangle(img, (x, y), (x+w, y+h), (0, 255, 0), 5)    # 利用 for 迴圈，抓取每個人臉屬性，繪製方框\n",
    "\n",
    "cv2.imshow('oxxostudio', img)\n",
    "cv2.waitKey(0)\n",
    "cv2.destroyAllWindows()"
   ]
  },
  {
   "cell_type": "code",
   "execution_count": 3,
   "id": "7115d2b8",
   "metadata": {},
   "outputs": [
    {
     "name": "stderr",
     "output_type": "stream",
     "text": [
      "Action: race: 100%|███████████████████████████████████████████████| 4/4 [00:01<00:00,  2.83it/s]\n"
     ]
    },
    {
     "name": "stdout",
     "output_type": "stream",
     "text": [
      "[{'emotion': {'angry': 64.16897177696228, 'disgust': 1.4791617095662873e-11, 'fear': 0.00032272566841129446, 'happy': 35.45978367328644, 'sad': 0.0001444849772269663, 'surprise': 6.10749111729092e-05, 'neutral': 0.37072261329740286}, 'dominant_emotion': 'angry', 'region': {'x': 214, 'y': 135, 'w': 223, 'h': 223}, 'age': 46, 'gender': {'Woman': 5.660787224769592, 'Man': 94.33921575546265}, 'dominant_gender': 'Man', 'race': {'asian': 99.99786615371704, 'indian': 0.0004308191819291096, 'black': 1.8505574850280482e-07, 'white': 0.00039149131225713063, 'middle eastern': 4.169235512385683e-08, 'latino hispanic': 0.0013141479939804412}, 'dominant_race': 'asian'}]\n"
     ]
    }
   ],
   "source": [
    "import cv2\n",
    "from deepface import DeepFace\n",
    "import numpy as np\n",
    "\n",
    "img = cv2.imread('per.png')     # 讀取圖片\n",
    "try:\n",
    "    analyze = DeepFace.analyze(img)  # 辨識圖片人臉資訊\n",
    "    print(analyze)\n",
    "except:\n",
    "    pass\n",
    "\n",
    "cv2.imshow('oxxostudio', img)\n",
    "cv2.waitKey(0)\n",
    "cv2.destroyAllWindows()"
   ]
  },
  {
   "cell_type": "code",
   "execution_count": null,
   "id": "be987d00",
   "metadata": {},
   "outputs": [],
   "source": []
  }
 ],
 "metadata": {
  "kernelspec": {
   "display_name": "Python 3 (ipykernel)",
   "language": "python",
   "name": "python3"
  },
  "language_info": {
   "codemirror_mode": {
    "name": "ipython",
    "version": 3
   },
   "file_extension": ".py",
   "mimetype": "text/x-python",
   "name": "python",
   "nbconvert_exporter": "python",
   "pygments_lexer": "ipython3",
   "version": "3.8.16"
  }
 },
 "nbformat": 4,
 "nbformat_minor": 5
}
